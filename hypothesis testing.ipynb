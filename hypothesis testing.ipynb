{
 "cells": [
  {
   "attachments": {},
   "cell_type": "markdown",
   "id": "bcc85b08",
   "metadata": {},
   "source": [
    "<p>1. The marketers of shampoo products know that customers like their product to have a lot of \n",
    "foams. A manufacturer of shampoo claims that the foam height of his product exceeds<b style=\"color:green\"> 200 \n",
    "millimeters</b>. It is known from prior experience that the standard deviation of foam height is<b style=\"color:green\"> 8 \n",
    "millimeters</b>. For each of the following sample sizes and a fixed<b style=\"color:green\"> α=0.05</b>, find the power of the test \n",
    "if the true mean is <b style=\"color:green\">204 millimeters</b>.</p>\n",
    "<p>a) n=20</p>\n",
    "<p>b) n=50</p>\n",
    "<p>c) n=100</p>\n",
    "<p>d) Does the power of the test increase or decrease as the sample of size increases?</p>"
   ]
  },
  {
   "attachments": {},
   "cell_type": "markdown",
   "id": "5ed556dd",
   "metadata": {},
   "source": [
    "<b><p> in this case we have to find the power of the test for different sample sizes and a fixed α=0.05, and the true mean is 204 millimeters.</p>\n",
    "<p> so the method to find the power of the test is z-test.</p>\n",
    "<p> the formula for z-test is:</p></b>\n",
    "\n",
    "$$Z = \\frac{\\bar{X} - \\mu}{\\sigma / \\sqrt{n}}$$\n",
    "\n",
    "<p>we used the z-test because we have the standard deviation of foam height and we have large sample size. (n> 30)</p>"
   ]
  },
  {
   "attachments": {},
   "cell_type": "markdown",
   "id": "387fef58",
   "metadata": {},
   "source": [
    "\n",
    "\n",
    "\n",
    "$$\\text{Power} = P(Z > \\frac{\\mu_0 - \\mu_a}{\\sigma / \\sqrt{n}})$$\n",
    "\n",
    "<p>where:</p>\n",
    "\n",
    "<p><b>μ0​</b> is the value under the null hypothesis (200 mm in this case)</p>\n",
    "\n",
    "<p><b>μa</b>​ is the true mean (204 mm in this case)</p>\n",
    "\n",
    "<p><b>σ</b> is the standard deviation (8 mm in this case)</p>\n",
    "\n",
    "<p><b>n</b> is the sample size</p>\n",
    "\n",
    "<p><b>Z</b> is a standard normal random variable</p>"
   ]
  },
  {
   "attachments": {},
   "cell_type": "markdown",
   "id": "be6125e2",
   "metadata": {},
   "source": [
    "a) For $n=20$, \n",
    "$$\\text{Power} = P(Z > \\frac{200 - 204}{8 / \\sqrt{20}})$$\n",
    "\n",
    "b) For $n=50$, \n",
    "$$\\text{Power} = P(Z > \\frac{200 - 204}{8 / \\sqrt{50}})$$\n",
    "\n",
    "c) For $n=100$, \n",
    "$$\\text{Power} = P(Z > \\frac{200 - 204}{8 / \\sqrt{100}})$$"
   ]
  },
  {
   "attachments": {},
   "cell_type": "markdown",
   "id": "72b56453",
   "metadata": {},
   "source": [
    "## <b>Using python to find the power of the test</b>"
   ]
  },
  {
   "cell_type": "code",
   "execution_count": 8,
   "metadata": {},
   "outputs": [],
   "source": [
    "import scipy.stats as stats\n",
    "import numpy as np\n",
    "\n",
    "# Given values\n",
    "mu_0 = 200  # Null hypothesis value\n",
    "mu_a = 204  # True mean\n",
    "sigma = 8   # Standard deviation\n",
    "alpha = 0.05  # Significance level\n",
    "sample_sizes = [20, 50, 100]  # Sample sizes\n"
   ]
  },
  {
   "cell_type": "code",
   "execution_count": 19,
   "id": "07d63b15",
   "metadata": {},
   "outputs": [],
   "source": [
    "# Critical value from standard normal distribution for one-sided test\n",
    "z_alpha = stats.norm.ppf(1 - alpha)"
   ]
  },
  {
   "attachments": {},
   "cell_type": "markdown",
   "id": "ce806a4a",
   "metadata": {},
   "source": [
    "### a) n = 20"
   ]
  },
  {
   "cell_type": "code",
   "execution_count": 35,
   "id": "9cccd403",
   "metadata": {},
   "outputs": [
    {
     "name": "stdout",
     "output_type": "stream",
     "text": [
      "Power of the test for n = 20 is 0.9999479693084375\n",
      "The power of the test is greater than 0.8\n",
      "The null hypothesis is rejected\n",
      "this means the manufacturer is correct\n"
     ]
    }
   ],
   "source": [
    "# Calculate the test statistic under the alternative hypothesis\n",
    "z_20 = (mu_0 - mu_a) / (sigma / np.sqrt(sample_sizes[0]))\n",
    "\n",
    "# Calculate the power of the test\n",
    "power_20 = stats.norm.sf(z_20 - z_alpha)\n",
    "# test if the power is greater than 0.8 and waht does this mean\n",
    "if power_20 > 0.8:\n",
    "    print('Power of the test for n = 20 is', power_20)\n",
    "    print('The power of the test is greater than 0.8')\n",
    "    print('The null hypothesis is rejected')\n",
    "    # print('this means the manufacturer is correct')\n",
    "else:\n",
    "    print('Power of the test for n = 20 is', power_20)\n",
    "    print('The power of the test is less than 0.8')\n",
    "    print('The null hypothesis is not rejected')\n",
    "    # print('this means the manufacturer is not correct')\n"
   ]
  },
  {
   "attachments": {},
   "cell_type": "markdown",
   "id": "b6d2b942",
   "metadata": {},
   "source": [
    "### b) n = 50"
   ]
  },
  {
   "cell_type": "code",
   "execution_count": 36,
   "id": "0b62d7c9",
   "metadata": {},
   "outputs": [
    {
     "name": "stdout",
     "output_type": "stream",
     "text": [
      "Power of the test for n = 50 is 0.9999998892873007\n",
      "The power of the test is greater than 0.8\n",
      "The null hypothesis is rejected\n",
      "this means the manufacturer is correct\n"
     ]
    }
   ],
   "source": [
    "# Calculate the test statistic under the alternative hypothesis\n",
    "z_50 = (mu_0 - mu_a) / (sigma / np.sqrt(sample_sizes[1]))\n",
    "\n",
    "# Calculate the power of the test\n",
    "power_50 = stats.norm.sf(z_50 - z_alpha)\n",
    "# test if the power is greater than 0.8 and waht does this mean\n",
    "if power_50 > 0.8:\n",
    "    print('Power of the test for n = 50 is', power_50)\n",
    "    print('The power of the test is greater than 0.8')\n",
    "    print('The null hypothesis is rejected')\n",
    "    # print('this means the manufacturer is correct')\n",
    "else:\n",
    "    print('Power of the test for n = 50 is', power_50)\n",
    "    print('The power of the test is less than 0.8')\n",
    "    print('The null hypothesis is not rejected')\n",
    "    # print('this means the manufacturer is not correct')"
   ]
  },
  {
   "attachments": {},
   "cell_type": "markdown",
   "id": "e2e6978e",
   "metadata": {},
   "source": [
    "### c) n = 100"
   ]
  },
  {
   "cell_type": "code",
   "execution_count": 37,
   "id": "810095a7",
   "metadata": {},
   "outputs": [
    {
     "name": "stdout",
     "output_type": "stream",
     "text": [
      "Power of the test for n = 100 is 0.999999999984824\n",
      "The power of the test is greater than 0.8\n",
      "The null hypothesis is rejected\n",
      "this means the manufacturer is correct\n"
     ]
    }
   ],
   "source": [
    "# Calculate the test statistic under the alternative hypothesis\n",
    "z_100 = (mu_0 - mu_a) / (sigma / np.sqrt(sample_sizes[2]))\n",
    "\n",
    "# Calculate the power of the test\n",
    "power_100 = stats.norm.sf(z_100 - z_alpha)\n",
    "# test if the power is greater than 0.8 and waht does this mean\n",
    "if power_100 > 0.8:\n",
    "    print('Power of the test for n = 100 is', power_100)\n",
    "    print('The power of the test is greater than 0.8')\n",
    "    print('The null hypothesis is rejected')\n",
    "    # print('this means the manufacturer is correct')\n",
    "else:\n",
    "    print('Power of the test for n = 100 is', power_100)\n",
    "    print('The power of the test is less than 0.8')\n",
    "    print('The null hypothesis is not rejected')\n",
    "    # print('this means the manufacturer is not correct')"
   ]
  },
  {
   "cell_type": "code",
   "execution_count": null,
   "id": "164cd827",
   "metadata": {},
   "outputs": [],
   "source": []
  },
  {
   "attachments": {},
   "cell_type": "markdown",
   "id": "00608f4d",
   "metadata": {},
   "source": [
    "### Output of three cases"
   ]
  },
  {
   "cell_type": "code",
   "execution_count": 39,
   "id": "103c9043",
   "metadata": {},
   "outputs": [
    {
     "name": "stdout",
     "output_type": "stream",
     "text": [
      "Power of the test for n = 20 is 0.9999479693084375\n",
      "Power of the test for n = 50 is 0.9999998892873007\n",
      "Power of the test for n = 100 is 0.999999999984824\n"
     ]
    }
   ],
   "source": [
    "print('Power of the test for n = 20 is', power_20)\n",
    "print('Power of the test for n = 50 is', power_50)\n",
    "print('Power of the test for n = 100 is', power_100)\n",
    "\n",
    "# i commented the manufacturer is correct or not because i dont know what it means i cant find it in the if the statement is true or false some say the manufacturer is correct some say the manufacturer is not correct about their claim"
   ]
  },
  {
   "attachments": {},
   "cell_type": "markdown",
   "id": "06287280",
   "metadata": {},
   "source": [
    "### d) Does the power of the test increase or decrease as the sample of size increases?"
   ]
  },
  {
   "attachments": {},
   "cell_type": "markdown",
   "id": "3c96ce9f",
   "metadata": {},
   "source": [
    "##### as we can see in the output, the power of the test increases as the sample size increases. getting more data will help us to make a better decision."
   ]
  },
  {
   "cell_type": "markdown",
   "id": "5d504876",
   "metadata": {},
   "source": []
  }
 ],
 "metadata": {
  "kernelspec": {
   "display_name": "Python 3",
   "language": "python",
   "name": "python3"
  },
  "language_info": {
   "codemirror_mode": {
    "name": "ipython",
    "version": 3
   },
   "file_extension": ".py",
   "mimetype": "text/x-python",
   "name": "python",
   "nbconvert_exporter": "python",
   "pygments_lexer": "ipython3",
   "version": "3.11.4"
  }
 },
 "nbformat": 4,
 "nbformat_minor": 5
}
